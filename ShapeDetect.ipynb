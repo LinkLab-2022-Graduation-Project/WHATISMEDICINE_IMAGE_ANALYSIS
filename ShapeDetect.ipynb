{
 "cells": [
  {
   "cell_type": "code",
   "execution_count": 18,
   "id": "5ea6ee7b",
   "metadata": {},
   "outputs": [],
   "source": [
    "import cv2\n",
    "import math"
   ]
  },
  {
   "cell_type": "code",
   "execution_count": 19,
   "id": "6789301d",
   "metadata": {},
   "outputs": [],
   "source": [
    "def printShape(filePath):\n",
    "    \n",
    "    img_input = cv2.imread(filePath, cv2.IMREAD_COLOR)\n",
    "    img_gray = cv2.cvtColor(img_input, cv2.COLOR_BGR2GRAY)\n",
    "    \n",
    "    img_gray = cv2.threshold(img_gray, 0, 255, cv2.THRESH_BINARY_INV | cv2.THRESH_OTSU)\n",
    "    \n",
    "    img_gray = cv2.bitwise_not(img_gray[1])\n",
    "    img_gray_blur = cv2.GaussianBlur(img_gray,(21, 21), 0)\n",
    "\n",
    "    img_gray_blur = cv2.dilate(img_gray_blur, (9, 9), cv2.CV_8UC1)\n",
    "    img_gray_blur = cv2.dilate(img_gray_blur, (9, 9), cv2.CV_8UC1)\n",
    "    img_gray_blur = cv2.dilate(img_gray_blur, (9, 9), cv2.CV_8UC1)\n",
    "    img_gray_blur = cv2.dilate(img_gray_blur, (9, 9), cv2.CV_8UC1)\n",
    "    img_gray_blur = cv2.dilate(img_gray_blur, (9, 9), cv2.CV_8UC1)\n",
    "\n",
    "    img_gray_blur = cv2.erode(img_gray_blur, (9, 9), cv2.CV_8UC1)\n",
    "    img_gray_blur = cv2.erode(img_gray_blur, (9, 9), cv2.CV_8UC1)\n",
    "    img_gray_blur = cv2.erode(img_gray_blur, (9, 9), cv2.CV_8UC1)\n",
    "    img_gray_blur = cv2.erode(img_gray_blur, (9, 9), cv2.CV_8UC1)\n",
    "    img_gray_blur = cv2.erode(img_gray_blur, (9, 9), cv2.CV_8UC1)\n",
    "\n",
    "    contours, _ = cv2.findContours(img_gray, cv2.RETR_EXTERNAL, cv2.CHAIN_APPROX_NONE)\n",
    "    \n",
    "    for cont in contours:\n",
    "        # approxPolyDP(curve, epsilon, closed, approxCurve=None)\n",
    "        # curve: 외곽선좌표(contour), epsilon: 극사화정밀도\n",
    "        # closed: True 폐곡선, approxCurve: 극사화된 곡선의 좌표\n",
    "\n",
    "        # arcLength(cuve, closed)\n",
    "        # closed: True(폐곡선)\n",
    "        # retval: 외곽선 길이(폐곡선이라면 둘레)\n",
    "        approx = cv2.approxPolyDP(cont, cv2.arcLength(cont, True) * 0.02, True)\n",
    "        vtc = len(approx)\n",
    "\n",
    "        if(vtc >= 7):\n",
    "            circlecontours, _ = cv2.findContours(img_gray_blur, cv2.RETR_EXTERNAL, cv2.CHAIN_APPROX_NONE)  \n",
    "#             print(\"circlecontours:\", len(circlecontours))\n",
    "\n",
    "            for i in range(0, len(circlecontours)):\n",
    "                length = cv2.arcLength(circlecontours[0], True)\n",
    "#                 print(length)\n",
    "            for contour in circlecontours:\n",
    "                drawCircle = cv2.drawContours(img_input, [contour], -1, (255, 0, 255), 2)\n",
    "\n",
    "            # img_gray_blur.shape[0]: 709\n",
    "            circles = cv2.HoughCircles(img_gray_blur, cv2.HOUGH_GRADIENT, 1, img_gray_blur.shape[0]/20, param1 = 8, param2 = 13, minRadius = 0, maxRadius = int(length/15))\n",
    "#             print(\">>\", circles.shape[1])\n",
    "\n",
    "            angle = circles.shape[1]/2\n",
    "\n",
    "            if(angle == 1):\n",
    "                result = \"원\"\n",
    "            elif(angle == 2):\n",
    "                result = \"장방형 or 타원형\"\n",
    "            elif(angle == 3):\n",
    "                result = \"삼각형\"\n",
    "            elif(angle == 4):\n",
    "                result = \"사각형\"\n",
    "            elif(angle == 5):\n",
    "                result = \"오각형\"\n",
    "            print(\"shape:\", result)\n",
    "        else:\n",
    "            if vtc == 3:\n",
    "                result = \"삼각형\"\n",
    "            elif vtc == 4:\n",
    "                result = \"사각형\"\n",
    "            elif vtc == 5:\n",
    "                result = \"오각형\"\n",
    "            elif vtc == 6:\n",
    "                result = \"육각형\"\n",
    "            print(\"shape:\", result)"
   ]
  },
  {
   "cell_type": "code",
   "execution_count": 39,
   "id": "60c10f52",
   "metadata": {},
   "outputs": [],
   "source": [
    "path = \"./sample_data_rembg/4angle_1.png\""
   ]
  },
  {
   "cell_type": "code",
   "execution_count": 40,
   "id": "9e4eb002",
   "metadata": {},
   "outputs": [
    {
     "name": "stdout",
     "output_type": "stream",
     "text": [
      "shape: 사각형\n",
      "shape: 사각형\n"
     ]
    }
   ],
   "source": [
    "printShape(path)"
   ]
  },
  {
   "cell_type": "code",
   "execution_count": null,
   "id": "d7963259",
   "metadata": {},
   "outputs": [],
   "source": []
  }
 ],
 "metadata": {
  "kernelspec": {
   "display_name": "Python 3",
   "language": "python",
   "name": "python3"
  },
  "language_info": {
   "codemirror_mode": {
    "name": "ipython",
    "version": 3
   },
   "file_extension": ".py",
   "mimetype": "text/x-python",
   "name": "python",
   "nbconvert_exporter": "python",
   "pygments_lexer": "ipython3",
   "version": "3.6.13"
  }
 },
 "nbformat": 4,
 "nbformat_minor": 5
}
