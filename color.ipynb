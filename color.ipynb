{
 "cells": [
  {
   "cell_type": "code",
   "execution_count": 2,
   "id": "83f28f23",
   "metadata": {},
   "outputs": [],
   "source": [
    "import cv2\n",
    "import numpy as np\n",
    "import matplotlib.pyplot as plt\n",
    "import matplotlib.image as mpimg"
   ]
  },
  {
   "cell_type": "code",
   "execution_count": 3,
   "id": "fd6bc717",
   "metadata": {},
   "outputs": [],
   "source": [
    "IMAGE_PATH = './data/content/purple1.png'\n",
    "img = cv2.imread(IMAGE_PATH)"
   ]
  },
  {
   "cell_type": "code",
   "execution_count": 4,
   "id": "f45e7816",
   "metadata": {},
   "outputs": [],
   "source": [
    "# BGR to HSV 변환\n",
    "hsv = cv2.cvtColor(img, cv2.COLOR_BGR2HSV)"
   ]
  },
  {
   "cell_type": "code",
   "execution_count": 5,
   "id": "84923054",
   "metadata": {},
   "outputs": [],
   "source": [
    "lower_white = np.array([0, 0, 180])# 된듯\n",
    "upper_white = np.array([30, 30, 255])\n",
    "\n",
    "lower_yellow = np.array([20, 120, 175])  #완\n",
    "upper_yellow = np.array([30, 255, 255]) \n",
    "\n",
    "lower_orange = np.array([9, 100, 200]) #된듯\n",
    "upper_orange = np.array([20, 255, 255])\n",
    "\n",
    "lower_pink = np.array([145, 30, 96]) #된듯\n",
    "upper_pink = np.array([178, 255, 255])\n",
    "\n",
    "lower_red = np.array([0, 100, 150])  #완\n",
    "upper_red = np.array([7, 255, 255])\n",
    "\n",
    "lower_brown = np.array([7, 45, 100]) #된듯\n",
    "upper_brown = np.array([15, 200, 204])\n",
    "\n",
    "lower_green = np.array([35, 80, 125])  #완\n",
    "upper_green = np.array([82, 255, 230])\n",
    "\n",
    "lower_turquoise = np.array([83, 88, 110])\n",
    "upper_turquoise = np.array([90, 255, 229])\n",
    "\n",
    "lower_blue = np.array([90, 30, 140])  #완\n",
    "upper_blue = np.array([125, 255, 255])\n",
    "\n",
    "lower_purple = np.array([126, 53, 100])\n",
    "upper_purple = np.array([146, 220, 255])\n",
    "\n",
    "#lower_gray = np.array([0, 12, 110])\n",
    "#upper_gray = np.array([30, 50, 230])\n",
    "lower_gray = np.array([0, 0, 50])   # 회색 애매함..\n",
    "upper_gray = np.array([110, 20, 200])"
   ]
  },
  {
   "cell_type": "code",
   "execution_count": 6,
   "id": "3972e72a",
   "metadata": {},
   "outputs": [],
   "source": [
    "# 색상 범위를 제한하여 mask 생성\n",
    "mask_white = cv2.inRange(hsv, lower_white, upper_white)\n",
    "mask_yellow = cv2.inRange(hsv, lower_yellow, upper_yellow)\n",
    "mask_orange = cv2.inRange(hsv, lower_orange, upper_orange)\n",
    "mask_pink = cv2.inRange(hsv, lower_pink, upper_pink)\n",
    "mask_red = cv2.inRange(hsv, lower_red, upper_red)\n",
    "mask_brown = cv2.inRange(hsv, lower_brown, upper_brown)\n",
    "mask_green = cv2.inRange(hsv, lower_green, upper_green)\n",
    "mask_turquoise = cv2.inRange(hsv, lower_turquoise, upper_turquoise)\n",
    "mask_blue = cv2.inRange(hsv, lower_blue, upper_blue)\n",
    "mask_purple = cv2.inRange(hsv, lower_purple, upper_purple)\n",
    "mask_gray = cv2.inRange(hsv, lower_gray, upper_gray)"
   ]
  },
  {
   "cell_type": "code",
   "execution_count": 7,
   "id": "9e730ca3",
   "metadata": {},
   "outputs": [],
   "source": [
    "mask_imgs = {'하양':mask_white, '노랑':mask_yellow, \n",
    "        '주황':mask_orange, '분홍':mask_pink, '빨강':mask_red,\n",
    "        '갈색':mask_brown, '연두':mask_green, '청록':mask_turquoise,\n",
    "        '파랑':mask_blue, '보라':mask_purple, '회색':mask_gray}"
   ]
  },
  {
   "cell_type": "code",
   "execution_count": 8,
   "id": "593a0956",
   "metadata": {},
   "outputs": [],
   "source": [
    "def validation(mask):\n",
    "    mask = np.array(mask)\n",
    "    for i in range(len(mask)):\n",
    "        if(mask[i].sum() > 65000):\n",
    "            return True\n",
    "            \n",
    "    return False"
   ]
  },
  {
   "cell_type": "code",
   "execution_count": 9,
   "id": "4d8858c5",
   "metadata": {},
   "outputs": [
    {
     "name": "stdout",
     "output_type": "stream",
     "text": [
      "보라\n"
     ]
    }
   ],
   "source": [
    "for k,v in mask_imgs.items():\n",
    "    if(validation(v) == True):\n",
    "        color_result = k\n",
    "        print(color_result)"
   ]
  },
  {
   "cell_type": "code",
   "execution_count": null,
   "id": "34776173",
   "metadata": {},
   "outputs": [],
   "source": []
  }
 ],
 "metadata": {
  "kernelspec": {
   "display_name": "Python 3 (ipykernel)",
   "language": "python",
   "name": "python3"
  },
  "language_info": {
   "codemirror_mode": {
    "name": "ipython",
    "version": 3
   },
   "file_extension": ".py",
   "mimetype": "text/x-python",
   "name": "python",
   "nbconvert_exporter": "python",
   "pygments_lexer": "ipython3",
   "version": "3.8.12"
  }
 },
 "nbformat": 4,
 "nbformat_minor": 5
}
